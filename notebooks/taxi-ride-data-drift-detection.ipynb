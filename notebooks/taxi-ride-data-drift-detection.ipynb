{
 "cells": [
  {
   "cell_type": "code",
   "execution_count": null,
   "metadata": {},
   "outputs": [],
   "source": [
    "# Automatically reload our project Python modules when we run the notebook\n",
    "%load_ext autoreload\n",
    "%autoreload 2"
   ]
  },
  {
   "cell_type": "markdown",
   "metadata": {},
   "source": [
    "For more information have a look at https://github.com/evidentlyai/evidently"
   ]
  },
  {
   "cell_type": "code",
   "execution_count": null,
   "metadata": {},
   "outputs": [],
   "source": [
    "import pandas as pd\n",
    "\n",
    "from evidently import Report\n",
    "from evidently.presets import DataDriftPreset\n",
    "\n",
    "raw_data = pd.read_parquet(\"../data/taxi_ride_data.parquet\")\n",
    "# Use a representative day as the reference dataset\n",
    "reference_data =  raw_data[raw_data['tpep_pickup_datetime'].dt.date == pd.to_datetime('2025-01-15').date()]\n",
    "\n",
    "report = Report([\n",
    "    DataDriftPreset()\n",
    "],\n",
    "include_tests=True)\n"
   ]
  },
  {
   "cell_type": "code",
   "execution_count": null,
   "metadata": {},
   "outputs": [],
   "source": [
    "# Check if we have data drift on the first of January 2025\n",
    "current_data =  raw_data[raw_data['tpep_pickup_datetime'].dt.date == pd.to_datetime('2025-01-01').date()]\n",
    "results = report.run(reference_data=reference_data, current_data=current_data)\n",
    "results"
   ]
  },
  {
   "cell_type": "code",
   "execution_count": null,
   "metadata": {},
   "outputs": [],
   "source": [
    "# Check if we have data drift one day prior to the reference dataset\n",
    "current_data =  raw_data[raw_data['tpep_pickup_datetime'].dt.date == pd.to_datetime('2025-01-14').date()]\n",
    "results = report.run(reference_data=reference_data, current_data=current_data, timestamp=pd.Timestamp(\"2025-01-14\"))\n",
    "results"
   ]
  },
  {
   "cell_type": "code",
   "execution_count": 13,
   "metadata": {},
   "outputs": [],
   "source": [
    "# Generate a day with data drift: A new vendor arrives that rides 30 times faster than all others\n",
    "new_vendor = raw_data[raw_data['VendorID'] == 2].copy()\n",
    "new_vendor['VendorID'] = 99\n",
    "new_vendor['trip_distance'] = new_vendor['trip_distance'] * 30\n",
    "\n",
    "drifted_data = raw_data.copy()\n",
    "drifted_data = pd.concat([drifted_data, new_vendor], ignore_index=True)\n",
    "drifted_data = drifted_data[drifted_data['tpep_pickup_datetime'].dt.date == pd.to_datetime('2025-01-17').date()]\n",
    "drifted_data.to_parquet('../work/2025-01-17.taxi-rides.parquet')"
   ]
  },
  {
   "cell_type": "code",
   "execution_count": null,
   "metadata": {},
   "outputs": [],
   "source": [
    "from evidently.ui.workspace import CloudWorkspace\n",
    "\n",
    "results = report.run(reference_data=reference_data, current_data=drifted_data)\n",
    "\n",
    "ws = CloudWorkspace(\n",
    "    token=\"...\",\n",
    "    url=\"https://app.evidently.cloud\")\n",
    "ws.add_run('0196786a-8a19-7825-bc64-e21665fc68b3', results, include_data=False)"
   ]
  }
 ],
 "metadata": {
  "kernelspec": {
   "display_name": ".venv",
   "language": "python",
   "name": "python3"
  },
  "language_info": {
   "codemirror_mode": {
    "name": "ipython",
    "version": 3
   },
   "file_extension": ".py",
   "mimetype": "text/x-python",
   "name": "python",
   "nbconvert_exporter": "python",
   "pygments_lexer": "ipython3",
   "version": "3.13.0"
  }
 },
 "nbformat": 4,
 "nbformat_minor": 4
}
